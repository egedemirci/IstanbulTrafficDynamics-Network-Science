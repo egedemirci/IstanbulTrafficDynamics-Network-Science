{
 "cells": [
  {
   "cell_type": "code",
   "execution_count": null,
   "id": "e34fbdeb",
   "metadata": {},
   "outputs": [],
   "source": [
    "import geopandas as gp\n",
    "import pandas as pd\n",
    "import numpy as np\n",
    "from itertools import combinations\n",
    "from scipy.stats import pearsonr, spearmanr\n",
    "import networkx as nx\n",
    "import seaborn as sns\n",
    "import matplotlib.pyplot as plt\n",
    "import matplotlib.patches as mpatches\n",
    "from haversine import haversine\n",
    "import warnings\n",
    "from tqdm.notebook import tqdm"
   ]
  },
  {
   "cell_type": "code",
   "execution_count": null,
   "id": "fc1e3bc3",
   "metadata": {},
   "outputs": [],
   "source": [
    "warnings.filterwarnings(\"ignore\")"
   ]
  },
  {
   "cell_type": "code",
   "execution_count": null,
   "id": "42ec16b0",
   "metadata": {},
   "outputs": [],
   "source": [
    "files = []\n",
    "\n",
    "for i in range(2020,2023):\n",
    "    for j in range(12):\n",
    "        files.append(\"traffic_density_{}\".format(str(i) + str(j+1).zfill(2)))\n",
    "\n",
    "for i in range(4):\n",
    "    files.append(\"traffic_density_{}\".format(\"2023\" + str(i+1).zfill(2)))"
   ]
  },
  {
   "cell_type": "code",
   "execution_count": null,
   "id": "b29d933c",
   "metadata": {
    "scrolled": false
   },
   "outputs": [],
   "source": [
    "for file in files:\n",
    "    df = pd.read_csv(\"~/Downloads/Graph Files/\" + file + \"_corr_distance.csv\")\n",
    "\n",
    "    df[\"Spearman Correlation\"] = abs(df[\"Spearman Correlation\"])\n",
    "\n",
    "    df = df[df[\"Distance\"] <= 100]\n",
    "    \n",
    "    df[\"Bin\"] = pd.cut(df['Distance'], bins = 21, precision = 6)\n",
    "\n",
    "    distances = df.groupby(\"Bin\")[\"Spearman Correlation\"].agg([np.mean, np.std]).reset_index()\n",
    "\n",
    "    bins = [round(np.mean([dist.right, dist.left]), 2) for dist in distances[\"Bin\"]]\n",
    "    \n",
    "    coeff = np.polyfit([bins[i] for i in range(0, 21, 5)], [distances[\"mean\"][i] for i in range(0, 21, 5)], deg=1)\n",
    "    \n",
    "    eq = np.poly1d(coeff)\n",
    "\n",
    "    plt.figure(figsize = (12, 6))\n",
    "\n",
    "    plt.plot(bins, eq(bins), c = \"red\", zorder = 1)\n",
    "    plt.errorbar(bins, distances[\"mean\"], yerr = distances[\"std\"], marker = \"o\", markersize = 10, zorder = -1)\n",
    "    plt.plot()\n",
    "    plt.ylim([0.4, 1])\n",
    "    plt.title(\"Distance vs. Correlation - \" + file.split(\"_\")[2])\n",
    "    plt.xlabel(\"Distance (in km)\")\n",
    "    plt.ylabel(\"Spearman Correlation\")\n",
    "\n",
    "    plt.savefig(\"Correlations/\" + file + \"_dist_corr.png\", dpi = 300)"
   ]
  }
 ],
 "metadata": {
  "kernelspec": {
   "display_name": "Python 3 (ipykernel)",
   "language": "python",
   "name": "python3"
  },
  "language_info": {
   "codemirror_mode": {
    "name": "ipython",
    "version": 3
   },
   "file_extension": ".py",
   "mimetype": "text/x-python",
   "name": "python",
   "nbconvert_exporter": "python",
   "pygments_lexer": "ipython3",
   "version": "3.11.2"
  }
 },
 "nbformat": 4,
 "nbformat_minor": 5
}
