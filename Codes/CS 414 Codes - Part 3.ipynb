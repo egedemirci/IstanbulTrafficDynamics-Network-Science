{
 "cells": [
  {
   "cell_type": "code",
   "execution_count": null,
   "id": "de58f20f",
   "metadata": {},
   "outputs": [],
   "source": [
    "from itertools import combinations\n",
    "from scipy.stats import spearmanr\n",
    "from haversine import haversine\n",
    "import matplotlib.pyplot as plt\n",
    "from tqdm.notebook import tqdm\n",
    "import networkx as nx\n",
    "import seaborn as sns\n",
    "import pandas as pd\n",
    "import numpy as np\n",
    "import warnings"
   ]
  },
  {
   "cell_type": "code",
   "execution_count": null,
   "id": "db691b85",
   "metadata": {},
   "outputs": [],
   "source": [
    "files = []\n",
    "\n",
    "for i in range(2020,2023):\n",
    "    for j in range(12):\n",
    "        files.append(\"traffic_density_{}\".format(str(i) + str(j+1).zfill(2)))\n",
    "\n",
    "for i in range(4):\n",
    "    files.append(\"traffic_density_{}\".format(\"2023\" + str(i+1).zfill(2)))"
   ]
  },
  {
   "cell_type": "code",
   "execution_count": null,
   "id": "658bc108",
   "metadata": {},
   "outputs": [],
   "source": [
    "def get_distance(row, distances):\n",
    "    return distances[row[\"District Pair\"]]"
   ]
  },
  {
   "cell_type": "code",
   "execution_count": null,
   "id": "4e946bea",
   "metadata": {
    "scrolled": false
   },
   "outputs": [],
   "source": [
    "for file in files:\n",
    "    df = pd.read_csv(file + \".csv\")\n",
    "    corr_df = pd.read_csv(file + \"corr.csv\")\n",
    "\n",
    "    coordinates_df = df.groupby(\"GEOHASH\")[[\"LONGITUDE\", \"LATITUDE\"]].agg(lambda x: np.unique(x).tolist())\n",
    "    coordinates_dict = coordinates_df.to_dict('index')\n",
    "\n",
    "    coordinates_dict\n",
    "\n",
    "    all_combs = np.array(list(combinations(list(np.unique(list(df[\"GEOHASH\"]))), 2)))\n",
    "\n",
    "    distances = {}\n",
    "\n",
    "    for comb in tqdm(all_combs):\n",
    "        c1 = (coordinates_dict[comb[0]][\"LATITUDE\"][0], coordinates_dict[comb[0]][\"LONGITUDE\"][0])\n",
    "        c2 = (coordinates_dict[comb[1]][\"LATITUDE\"][0], coordinates_dict[comb[1]][\"LONGITUDE\"][0])\n",
    "        d = haversine(c1, c2)\n",
    "        distances[str((comb[0], comb[1]))] = d\n",
    "\n",
    "    corr_df[\"Distance\"] = corr_df.apply(get_distance, args=(distances,), axis=1)\n",
    "\n",
    "    corr_df.to_csv(file + \"_corr_distance.csv\", index = False)\n",
    "    print(file + \"_corr_distance.csv finished!\")"
   ]
  }
 ],
 "metadata": {
  "kernelspec": {
   "display_name": "Python 3 (ipykernel)",
   "language": "python",
   "name": "python3"
  },
  "language_info": {
   "codemirror_mode": {
    "name": "ipython",
    "version": 3
   },
   "file_extension": ".py",
   "mimetype": "text/x-python",
   "name": "python",
   "nbconvert_exporter": "python",
   "pygments_lexer": "ipython3",
   "version": "3.11.2"
  }
 },
 "nbformat": 4,
 "nbformat_minor": 5
}
